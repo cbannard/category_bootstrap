{
  "nbformat": 4,
  "nbformat_minor": 0,
  "metadata": {
    "colab": {
      "provenance": []
    },
    "kernelspec": {
      "name": "python3",
      "display_name": "Python 3"
    },
    "language_info": {
      "name": "python"
    }
  },
  "cells": [
    {
      "cell_type": "code",
      "execution_count": null,
      "metadata": {
        "id": "Byo7T4MhMVNF"
      },
      "outputs": [],
      "source": [
        "import csv\n",
        "import re\n"
      ]
    },
    {
      "cell_type": "code",
      "source": [
        "!gdown 1YmiXKfAks2KnuSfRNpgfVnvnWBcsFsQy\n"
      ],
      "metadata": {
        "id": "BBcdnU1h1L8a"
      },
      "execution_count": null,
      "outputs": []
    },
    {
      "cell_type": "code",
      "source": [
        "!unzip ManchesterCorpus.zip"
      ],
      "metadata": {
        "id": "rRHqnlLT1giP"
      },
      "execution_count": null,
      "outputs": []
    },
    {
      "cell_type": "code",
      "source": [
        "import sys, os, re\n",
        "\n",
        "\n",
        "def recurse_dirs(dir):\n",
        "    outtext=[]\n",
        "    outlist = []\n",
        "    corpora = os.listdir(dir)\n",
        "    for corpus in corpora:\n",
        "        path = dir + corpus\n",
        "        dirbin = []\n",
        "\n",
        "        for d_path, d_names, f_names in os.walk(path):\n",
        "\n",
        "            if any(fname.endswith('.cha') for fname in os.listdir(d_path)):\n",
        "\n",
        "                # for f in_names:\n",
        "                # if f.endswith('cha'):\n",
        "                # print d_path + f\n",
        "                subdir = d_path + \"/\"\n",
        "                remove_embedded_returns(subdir)\n",
        "                for f in os.listdir(subdir):\n",
        "                    if f.endswith('.rem'):\n",
        "\n",
        "                      outtext.append(get_file_text(subdir + f,f))\n",
        "    return outtext\n",
        "\n",
        "def get_file_text(file,filename):\n",
        "    thistext = []\n",
        "    previousline=\"START\"\n",
        "    with open(file, 'r') as infile:\n",
        "        lines = infile.readlines()\n",
        "        i = 0\n",
        "        for line in lines:\n",
        "             i=i+1\n",
        "\n",
        "             if not re.match(\".*xxx.*\",line):\n",
        "               if re.match(\"\\*(MOT|INV|FAT)\\:[^\\.]+\\.\",line.rstrip('\\n')):\n",
        "                    speaker = re.search(\"\\*(MOT|INV|FAT)\\:\",line)[0]\n",
        "                    line = deal_with_variant_form_exceptions(line)\n",
        "                    line = deal_with_variant_forms(line)\n",
        "                    line = deal_with_marked_errors_etc(line)\n",
        "                    # some residual rules\n",
        "                    line = re.sub(\"\\+\\/+\\.\",\".\",line)\n",
        "                    line = re.sub(\"\\+\\\"\\/? \",\"\",line)\n",
        "                    line = re.sub(\"\\+\\.\\.\\. \",\"\",line)\n",
        "                    line = re.sub(\"\\+\\/+\\? \",\"\",line)\n",
        "                    line = re.sub(\"\\+\",\"\",line)\n",
        "                    line = remove_commas(line)\n",
        "                    line = re.sub(\"\\&-um \",\"\",line)\n",
        "                    line = re.sub(\"\\&-er \",\"\",line)\n",
        "                    line = re.sub(\"\\.\\.\\.\",\".\",line)\n",
        "                    # next rule needs consideration\n",
        "                    # line = re.sub(\"([^ ]+)\\@[a-z]\",\"\\\\1\",line)\n",
        "                    line = re.sub(\"www\",\"\",line)\n",
        "\n",
        "                    if i <= len(lines):\n",
        "                      #and lines[i].strip().startswith('%mor:'):\n",
        "                      response  = line.split(':',1)[1]\n",
        "                      response = re.sub(\"\\:\",\"\",response)\n",
        "                      response_as_list=response.split()\n",
        "\n",
        "                      if len(response_as_list) > 0 and \"xxx\" not in response_as_list:\n",
        "                          thistext.append(\" \".join(response_as_list))\n",
        "    return(thistext)                  #print(file + \" \" + speaker + \" : \" + \" \".join(response_as_list))\n",
        "def remove_embedded_returns(my_dir):\n",
        "    #global i\n",
        "    import os\n",
        "    import copy\n",
        "    files = os.listdir(my_dir)\n",
        "    for file in files:\n",
        "        # print file\n",
        "        if (('.cha' in file\n",
        "             or '.cex' in file)\n",
        "            and '.rem' not in file\n",
        "            # and 'Helen.dd03' in file\n",
        "                and '._' not in file):\n",
        "            with open(my_dir + file, 'r') as infile:\n",
        "                inlist = infile.readlines()\n",
        "                # print len(inlist)\n",
        "                for i in range(len(inlist)):\n",
        "                    inlist[i] = inlist[i].split()\n",
        "                    if inlist[i] == []:\n",
        "                        inlist[i] = ['binthis']\n",
        "                while ['binthis'] in inlist:\n",
        "                    inlist.remove(['binthis'])\n",
        "                # print len(inlist)\n",
        "                for j in range(5):\n",
        "                    for i in range(len(inlist)):\n",
        "                        # print i, inlist[i]\n",
        "                        if (len(inlist[i]) > 0\n",
        "                            and inlist[i][0][0] in ['%', '*', '@', '%']\n",
        "                            and i < len(inlist) - 2\n",
        "                            and inlist[i+1][0][0] not in ['%', '*', '@', '%']\n",
        "                                and inlist[i+1] != ['binthis']):\n",
        "                            # print my_dir + file\n",
        "                            # print 'old', inlist[i-1]\n",
        "                            # print inlist[i]\n",
        "                            # print inlist[i]\n",
        "                            inlist[i] = copy.deepcopy(\n",
        "                                inlist[i]) + copy.deepcopy(inlist[i+1])\n",
        "                            inlist[i+1] = ['binthis']\n",
        "                            # print 'new', inlist[i-1]\n",
        "                            # print 'new1', inlist[i]\n",
        "                        if inlist[i] == []:\n",
        "                            inlist[i] = ['binthis']\n",
        "                    # print len(inlist)\n",
        "                    while ['binthis'] in inlist:\n",
        "                        inlist.remove(['binthis'])\n",
        "                    # print len(inlist)\n",
        "                    # print 'done'\n",
        "            with open(my_dir + file + '.rem', 'w') as outfile:\n",
        "                for line in inlist:\n",
        "                    outfile.write(' '.join(line) + '\\n')\n",
        "\n",
        "\n",
        "def deal_with_variant_form_exceptions(textline):\n",
        "\n",
        "    textline = textline.replace('ahem ach [: I don’t]', 'I don’t')\n",
        "    textline = textline.replace('Uh no [: don’t know]', 'don’t know')\n",
        "    textline = textline.replace('goinga [: going to]', 'gonna')\n",
        "    textline = textline.replace('gon [: going to]', 'gonna')\n",
        "    textline = textline.replace('deres [: there is]', 'there’s')\n",
        "    textline = textline.replace('don [: do not]', 'don’t')\n",
        "    textline = textline.replace('hed+up [: fed up]', 'fed up')\n",
        "    textline = textline.replace('hull+up [: full up]', 'full up')\n",
        "    textline = textline.replace(\n",
        "        'creabids [: creamy porridge]', 'creabids')\n",
        "\n",
        "    return textline\n",
        "\n",
        "\n",
        "def deal_with_variant_forms(textline):\n",
        "    textline = textline.split(\" \")\n",
        "    newtextline = []\n",
        "    lastitem = ''\n",
        "    lastbutoneitem = ''\n",
        "    #lastbuttwoitem = ''\n",
        "    # print textline\n",
        "    for item in textline:\n",
        "        item = item.replace('(', '')\n",
        "        item = item.replace(')', '')\n",
        "\n",
        "        if item == '[:':\n",
        "          break\n",
        "        else:\n",
        "          newtextline.append(item.lower())\n",
        "    return \" \".join(newtextline)\n",
        "\n",
        "def deal_with_marked_errors_etc(textline):\n",
        "    textline = textline.replace('\\]\\[', '] [')\n",
        "    textline = re.sub('([^ ]),','\\\\1 ,', textline)\n",
        "    textline = re.sub(',([^ ])',', \\\\1', textline)\n",
        "    textline = re.sub('\\<','', textline)\n",
        "    textline = re.sub('\\>','', textline)\n",
        "    textline = re.sub('\\[[^\\[\\]]*\\] ?', '', textline)\n",
        "    textline = re.sub('\\(\\.\\) ?', '', textline)\n",
        "\n",
        "    textline = textline.replace('0is ', '')\n",
        "    return textline\n",
        "\n",
        "def remove_commas(textline):\n",
        "    outline = re.sub(\"\\, \",\"\",textline)\n",
        "    return outline\n",
        "\n"
      ],
      "metadata": {
        "id": "NVr24b8VTXv-"
      },
      "execution_count": null,
      "outputs": []
    },
    {
      "cell_type": "code",
      "source": [
        "all_input = recurse_dirs(\"Manchester/\")"
      ],
      "metadata": {
        "id": "Z4lJTEi2o2wF"
      },
      "execution_count": null,
      "outputs": []
    },
    {
      "cell_type": "code",
      "source": [
        "import spacy\n",
        "import en_core_web_sm\n",
        "nlp = en_core_web_sm.load()\n",
        "tagged_text = \"\"\n",
        "with open as f:\n",
        "with open('manchester_input_tagged.txt', 'w') as f:\n",
        "    for i in range(len(all_input)):\n",
        "       for utt in all_input[i]:\n",
        "           doc = nlp(str(utt))\n",
        "           f.write(\" \".join([w.text + \"_\" + w.pos_ for w in doc]) + \"\\n\")\n"
      ],
      "metadata": {
        "id": "E-TDJW54BWib"
      },
      "execution_count": null,
      "outputs": []
    },
    {
      "cell_type": "code",
      "source": [
        "from google.colab import drive\n",
        "drive.mount('/content/drive')\n",
        "!mv tagged_text /content/drive/"
      ],
      "metadata": {
        "id": "iAtrUsA-04GO"
      },
      "execution_count": null,
      "outputs": []
    }
  ]
}