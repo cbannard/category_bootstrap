{
  "cells": [
    {
      "cell_type": "code",
      "execution_count": 2,
      "metadata": {
        "id": "_eZ0lD3oa51w",
        "outputId": "62581fa1-2dd8-4785-930e-623789caf585",
        "colab": {
          "base_uri": "https://localhost:8080/"
        }
      },
      "outputs": [
        {
          "output_type": "stream",
          "name": "stdout",
          "text": [
            "Collecting wn\n",
            "  Downloading wn-0.13.0-py3-none-any.whl.metadata (14 kB)\n",
            "Requirement already satisfied: httpx in /usr/local/lib/python3.12/dist-packages (from wn) (0.28.1)\n",
            "Collecting tomli (from wn)\n",
            "  Downloading tomli-2.3.0-cp312-cp312-manylinux2014_x86_64.manylinux_2_17_x86_64.manylinux_2_28_x86_64.whl.metadata (10 kB)\n",
            "Requirement already satisfied: anyio in /usr/local/lib/python3.12/dist-packages (from httpx->wn) (4.11.0)\n",
            "Requirement already satisfied: certifi in /usr/local/lib/python3.12/dist-packages (from httpx->wn) (2025.10.5)\n",
            "Requirement already satisfied: httpcore==1.* in /usr/local/lib/python3.12/dist-packages (from httpx->wn) (1.0.9)\n",
            "Requirement already satisfied: idna in /usr/local/lib/python3.12/dist-packages (from httpx->wn) (3.11)\n",
            "Requirement already satisfied: h11>=0.16 in /usr/local/lib/python3.12/dist-packages (from httpcore==1.*->httpx->wn) (0.16.0)\n",
            "Requirement already satisfied: sniffio>=1.1 in /usr/local/lib/python3.12/dist-packages (from anyio->httpx->wn) (1.3.1)\n",
            "Requirement already satisfied: typing_extensions>=4.5 in /usr/local/lib/python3.12/dist-packages (from anyio->httpx->wn) (4.15.0)\n",
            "Downloading wn-0.13.0-py3-none-any.whl (84 kB)\n",
            "\u001b[2K   \u001b[90m━━━━━━━━━━━━━━━━━━━━━━━━━━━━━━━━━━━━━━━━\u001b[0m \u001b[32m85.0/85.0 kB\u001b[0m \u001b[31m2.7 MB/s\u001b[0m eta \u001b[36m0:00:00\u001b[0m\n",
            "\u001b[?25hDownloading tomli-2.3.0-cp312-cp312-manylinux2014_x86_64.manylinux_2_17_x86_64.manylinux_2_28_x86_64.whl (250 kB)\n",
            "\u001b[2K   \u001b[90m━━━━━━━━━━━━━━━━━━━━━━━━━━━━━━━━━━━━━━━━\u001b[0m \u001b[32m250.1/250.1 kB\u001b[0m \u001b[31m8.8 MB/s\u001b[0m eta \u001b[36m0:00:00\u001b[0m\n",
            "\u001b[?25hInstalling collected packages: tomli, wn\n",
            "Successfully installed tomli-2.3.0 wn-0.13.0\n"
          ]
        }
      ],
      "source": [
        "pip install wn"
      ]
    },
    {
      "cell_type": "code",
      "execution_count": 3,
      "metadata": {
        "id": "-SCAa9eya51x"
      },
      "outputs": [],
      "source": [
        "import wn"
      ]
    },
    {
      "cell_type": "code",
      "execution_count": 4,
      "metadata": {
        "id": "xrJObJiHa51x",
        "outputId": "640e9421-5f05-4b51-be81-e25347cd1949",
        "colab": {
          "base_uri": "https://localhost:8080/"
        }
      },
      "outputs": [
        {
          "output_type": "stream",
          "name": "stdout",
          "text": [
            "Download [##############################] (49414200/49414200 bytes) Complete\n",
            "Read [##############################] (131130/131130) \n",
            "\u001b[KAdded omw-eu:1.4 (Multilingual Central Repository (Basque))\n",
            "Read [##############################] (129201/129201) \n",
            "\u001b[KAdded omw-hr:1.4 (Croatian Wordnet)\n",
            "Read [##############################] (83267/83267) \n",
            "\u001b[KAdded omw-arb:1.4 (Arabic WordNet (AWN v2))\n",
            "Read [##############################] (93273/93273) \n",
            "\u001b[KAdded omw-gl:1.4 (Multilingual Central Repository (Galician))\n",
            "Read [##############################] (46814/46814) \n",
            "\u001b[KAdded omw-bg:1.4 (BulTreeBank Wordnet (BTB-WN))\n",
            "Read [##############################] (35257/35257) \n",
            "\u001b[KAdded omw-sq:1.4 (Albanet)\n",
            "Read [##############################] (15308/15308) \n",
            "\u001b[KAdded omw-nn:1.4 (Norwegian Wordnet (Nynorsk))\n",
            "Read [##############################] (25447/25447) \n",
            "\u001b[KAdded omw-sv:1.4 (WordNet-SALDO)\n",
            "Read [##############################] (301893/301893) \n",
            "\u001b[KAdded omw-ro:1.4 (Romanian Wordnet)\n",
            "Read [##############################] (177773/177773) \n",
            "\u001b[KAdded omw-nl:1.4 (Open Dutch WordNet)\n",
            "Read [##############################] (48353/48353) \n",
            "\u001b[KAdded omw-lt:1.4 (Lithuanian  WordNet)\n",
            "Read [##############################] (280977/280977) \n",
            "\u001b[KAdded omw-fr:1.4 (WOLF (Wordnet Libre du Français))\n",
            "Read [##############################] (231871/231871) \n",
            "\u001b[KAdded omw-id:1.4 (Wordnet Bahasa (Indonesian))\n",
            "Read [##############################] (177117/177117) \n",
            "\u001b[KAdded omw-pl:1.4 (plWordNet)\n",
            "Read [##############################] (248818/248818) \n",
            "\u001b[KAdded omw-cmn:1.4 (Chinese Open Wordnet)\n",
            "Read [##############################] (92417/92417) \n",
            "\u001b[KAdded omw-iwn:1.4 (ItalWordNet)\n",
            "Read [##############################] (44268/44268) \n",
            "\u001b[KAdded omw-is:1.4 (IceWordNet)\n",
            "Read [##############################] (19380/19380) \n",
            "\u001b[KAdded omw-da:1.4 (DanNet)\n",
            "Read [##############################] (170685/170685) \n",
            "\u001b[KAdded omw-es:1.4 (Multilingual Central Repository (Spanish))\n",
            "Read [##############################] (219452/219452) \n",
            "\u001b[KAdded omw-zsm:1.4 (Wordnet Bahasa (Malaysian))\n",
            "Read [##############################] (18532/18532) \n",
            "\u001b[KAdded omw-nb:1.4 (Norwegian Wordnet (Bokmål))\n",
            "Read [##############################] (29690/29690) \n",
            "\u001b[KAdded omw-he:1.4 (Hebrew Wordnet)\n",
            "Read [##############################] (227774/227774) \n",
            "\u001b[KAdded omw-pt:1.4 (OpenWN-PT)\n",
            "Read [##############################] (188283/188283) \n",
            "\u001b[KAdded omw-it:1.4 (MultiWordNet (Italian))\n",
            "Read [##############################] (96758/96758) \n",
            "\u001b[KAdded omw-el:1.4 (Greek Wordnet)\n",
            "Read [##############################] (499566/499566) \n",
            "\u001b[KAdded omw-ja:1.4 (Japanese Wordnet)\n",
            "Read [##############################] (201542/201542) \n",
            "\u001b[KAdded omw-sl:1.4 (sloWNet)\n",
            "Read [##############################] (120995/120995) \n",
            "\u001b[KAdded omw-sk:1.4 (Slovak WordNet)\n",
            "Read [##############################] (335832/335832) \n",
            "\u001b[KAdded omw-th:1.4 (Thai Wordnet)\n",
            "Read [##############################] (567477/567477) \n",
            "\u001b[KAdded omw-fi:1.4 (FinnWordNet)\n",
            "Read [##############################] (211647/211647) \n",
            "\u001b[KAdded omw-ca:1.4 (Multilingual Central Repository (Catalan))\n",
            "Read [##############################] (1221564/1221564) \n",
            "\u001b[KAdded omw-en:1.4 (OMW English Wordnet based on WordNet 3.0)\n",
            "\n"
          ]
        }
      ],
      "source": [
        "!python3 -m wn download omw:1.4"
      ]
    },
    {
      "cell_type": "code",
      "source": [
        "en=wn.Wordnet('omw-en:1.4')"
      ],
      "metadata": {
        "id": "T5ucMq94cFZ5"
      },
      "execution_count": 24,
      "outputs": []
    },
    {
      "cell_type": "code",
      "source": [
        "fr=wn.Wordnet('omw-fr:1.4')"
      ],
      "metadata": {
        "id": "7jgWIizwbxUK"
      },
      "execution_count": 5,
      "outputs": []
    },
    {
      "cell_type": "code",
      "source": [
        "ch=wn.Wordnet('omw-cmn:1.4')"
      ],
      "metadata": {
        "id": "T429LFZ4a_vD"
      },
      "execution_count": 7,
      "outputs": []
    },
    {
      "cell_type": "code",
      "source": [
        "jp=wn.Wordnet('omw-ja:1.4')"
      ],
      "metadata": {
        "id": "GjlUlaNIbHX5"
      },
      "execution_count": 8,
      "outputs": []
    },
    {
      "cell_type": "code",
      "source": [
        "word=\"cat\"\n",
        "this_word = en.synsets(word, pos='n')[0]\n",
        "lem=[]\n",
        "for path in wn.taxonomy.hypernym_paths(this_word):\n",
        "    for i, ss in enumerate(path):\n",
        "            lem.extend([l for l in ss.lemmas()])\n",
        "print(\"entity\" in lem)"
      ],
      "metadata": {
        "id": "2LjEmu-Ab0jj",
        "outputId": "c18cdda6-bb9c-45b7-ab59-1b4cee13998d",
        "colab": {
          "base_uri": "https://localhost:8080/"
        }
      },
      "execution_count": 25,
      "outputs": [
        {
          "output_type": "stream",
          "name": "stdout",
          "text": [
            "True\n"
          ]
        }
      ]
    },
    {
      "cell_type": "code",
      "source": [
        "word=\"chat\"\n",
        "this_word = fr.synsets(word, pos='n')[0]\n",
        "lem=[]\n",
        "for path in wn.taxonomy.hypernym_paths(this_word):\n",
        "    for i, ss in enumerate(path):\n",
        "            lem.extend([l for l in ss.lemmas()])\n",
        "print(\"entité\" in lem)"
      ],
      "metadata": {
        "id": "bhPYqXAGbdrb",
        "outputId": "ec633533-7cbe-44ee-f297-15a431c3bceb",
        "colab": {
          "base_uri": "https://localhost:8080/"
        }
      },
      "execution_count": 16,
      "outputs": [
        {
          "output_type": "stream",
          "name": "stdout",
          "text": [
            "True\n"
          ]
        }
      ]
    },
    {
      "cell_type": "code",
      "source": [
        "word=\"put\"\n",
        "this_word = fr.synsets(word, pos='n')[0]\n",
        "lem=[]\n",
        "for path in fr.taxonomy.hypernym_paths(this_word):\n",
        "    for i, ss in enumerate(path):\n",
        "            lem.extend([l for l in ss.lemmas()])\n",
        "print(\"entity\" in lem)"
      ],
      "metadata": {
        "id": "PwjjKiy1bRvK"
      },
      "execution_count": null,
      "outputs": []
    },
    {
      "cell_type": "code",
      "source": [
        "lem"
      ],
      "metadata": {
        "id": "XWoesrfPdNSb",
        "outputId": "125753b8-3b55-4820-cc2b-7b1b7b622b14",
        "colab": {
          "base_uri": "https://localhost:8080/"
        }
      },
      "execution_count": null,
      "outputs": [
        {
          "output_type": "execute_result",
          "data": {
            "text/plain": [
              "['option',\n",
              " 'derivative instrument',\n",
              " 'derivative',\n",
              " 'legal document',\n",
              " 'legal instrument',\n",
              " 'official document',\n",
              " 'instrument',\n",
              " 'document',\n",
              " 'written document',\n",
              " 'papers',\n",
              " 'writing',\n",
              " 'written material',\n",
              " 'piece of writing',\n",
              " 'written communication',\n",
              " 'written language',\n",
              " 'black and white',\n",
              " 'communication',\n",
              " 'abstraction',\n",
              " 'abstract entity',\n",
              " 'entity']"
            ]
          },
          "metadata": {},
          "execution_count": 24
        }
      ]
    },
    {
      "cell_type": "code",
      "execution_count": null,
      "metadata": {
        "id": "j__LbNJfa51y"
      },
      "outputs": [],
      "source": []
    }
  ],
  "metadata": {
    "colab": {
      "provenance": []
    },
    "kernelspec": {
      "display_name": "Python 3 (ipykernel)",
      "language": "python",
      "name": "python3"
    },
    "language_info": {
      "codemirror_mode": {
        "name": "ipython",
        "version": 3
      },
      "file_extension": ".py",
      "mimetype": "text/x-python",
      "name": "python",
      "nbconvert_exporter": "python",
      "pygments_lexer": "ipython3",
      "version": "3.12.4"
    }
  },
  "nbformat": 4,
  "nbformat_minor": 0
}