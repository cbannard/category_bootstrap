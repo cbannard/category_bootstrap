{
  "cells": [
    {
      "cell_type": "code",
      "source": [
        "!python -m spacy download en_core_web_trf"
      ],
      "metadata": {
        "id": "M2cXj1sGBajv"
      },
      "execution_count": null,
      "outputs": []
    },
    {
      "cell_type": "code",
      "source": [
        "!python -m spacy download fr_dep_news_trf"
      ],
      "metadata": {
        "id": "p_Zk0mrkGBnV"
      },
      "execution_count": null,
      "outputs": []
    },
    {
      "cell_type": "code",
      "source": [
        "import en_core_web_trf\n",
        "nlp_en = en_core_web_trf.load()"
      ],
      "metadata": {
        "id": "9_HEnObFFnOA"
      },
      "execution_count": null,
      "outputs": []
    },
    {
      "cell_type": "code",
      "source": [
        "import fr_dep_news_trf\n",
        "nlp_fr = fr_dep_news_trf.load()"
      ],
      "metadata": {
        "id": "pmr7YzyUGfZ0"
      },
      "execution_count": null,
      "outputs": []
    },
    {
      "cell_type": "code",
      "execution_count": null,
      "metadata": {
        "id": "_eZ0lD3oa51w"
      },
      "outputs": [],
      "source": [
        "pip install wn"
      ]
    },
    {
      "cell_type": "code",
      "execution_count": null,
      "metadata": {
        "id": "-SCAa9eya51x"
      },
      "outputs": [],
      "source": [
        "import wn"
      ]
    },
    {
      "cell_type": "code",
      "execution_count": null,
      "metadata": {
        "id": "xrJObJiHa51x"
      },
      "outputs": [],
      "source": [
        "!python3 -m wn download omw:1.4"
      ]
    },
    {
      "cell_type": "code",
      "source": [
        "en=wn.Wordnet('omw-en:1.4')"
      ],
      "metadata": {
        "id": "T5ucMq94cFZ5"
      },
      "execution_count": null,
      "outputs": []
    },
    {
      "cell_type": "code",
      "source": [
        "fr=wn.Wordnet('omw-fr:1.4')"
      ],
      "metadata": {
        "id": "7jgWIizwbxUK"
      },
      "execution_count": null,
      "outputs": []
    },
    {
      "cell_type": "code",
      "source": [
        "ch=wn.Wordnet('omw-cmn:1.4')"
      ],
      "metadata": {
        "id": "T429LFZ4a_vD"
      },
      "execution_count": null,
      "outputs": []
    },
    {
      "cell_type": "code",
      "source": [
        "jp=wn.Wordnet('omw-ja:1.4')"
      ],
      "metadata": {
        "id": "GjlUlaNIbHX5"
      },
      "execution_count": null,
      "outputs": []
    },
    {
      "cell_type": "code",
      "source": [
        "import spacy\n",
        "import pandas as pd"
      ],
      "metadata": {
        "id": "53RQPwABA3oN"
      },
      "execution_count": null,
      "outputs": []
    },
    {
      "cell_type": "code",
      "source": [
        "!gdown 18kaAF4q_X6Kgtjh16SUpZIagFTQ2O4un"
      ],
      "metadata": {
        "id": "5HYTOej-Kjvz"
      },
      "execution_count": null,
      "outputs": []
    },
    {
      "cell_type": "code",
      "source": [
        "!gdown 1qNIPTVBC-17UfJoDYJfHtuKtn6DLI4Yh"
      ],
      "metadata": {
        "id": "6rDYBxdZv2ST"
      },
      "execution_count": null,
      "outputs": []
    },
    {
      "cell_type": "code",
      "source": [
        "nouns=pd.read_csv(\"nouns_checked.csv\")"
      ],
      "metadata": {
        "id": "iz4WebLmMAFe"
      },
      "execution_count": null,
      "outputs": []
    },
    {
      "cell_type": "code",
      "source": [
        "verbs=pd.read_csv(\"verbs_checked.csv\",names=list(nouns.columns.values))"
      ],
      "metadata": {
        "id": "vvjDgS7Ov8_U"
      },
      "execution_count": null,
      "outputs": []
    },
    {
      "cell_type": "code",
      "source": [
        "verbs"
      ],
      "metadata": {
        "id": "HP46FxJWC4M5"
      },
      "execution_count": null,
      "outputs": []
    },
    {
      "cell_type": "code",
      "source": [
        "import nltk\n",
        "nltk.download('wordnet')"
      ],
      "metadata": {
        "id": "lUTgkFYe52SH"
      },
      "execution_count": null,
      "outputs": []
    },
    {
      "cell_type": "code",
      "source": [
        "len(verbs['Word'])"
      ],
      "metadata": {
        "id": "mnz5t99yEz5y"
      },
      "execution_count": null,
      "outputs": []
    },
    {
      "cell_type": "code",
      "source": [
        "from nltk.corpus import wordnet as nltk_wn\n",
        "from collections import defaultdict\n",
        "d= defaultdict(int)\n",
        "validity=[\"\"]*verbs.shape[0]\n",
        "for i in range(1000):\n",
        "    word=verbs.iloc[i,0]\n",
        "    #print(word)\n",
        "    word=nlp_en(word)\n",
        "    lemma=word[0].lemma_\n",
        "    #print(lemma)\n",
        "    syn =  en.synsets(lemma, pos='v')\n",
        "    #syn =  en.synsets(lemma, pos='v')\n",
        "    syn_nltk=nltk_wn.synsets(lemma,pos='v')\n",
        "    classes=[]\n",
        "    if len(syn) > 0:\n",
        "      for i in range(len(syn)):\n",
        "          #d[syn_nltk[i].lexname()].append(lemma)\n",
        "          classes.append(syn_nltk[i].lexname())\n",
        "    #print(set(classes))\n",
        "    #if len(set(classes).intersection([\"verb.motion\",\"verb.body\",\"verb.consumption\",\"verb.competition\"])) > 0:\n",
        "    if len(set(classes).intersection([\"verb.motion\"])) > 0:\n",
        "          #print(\"INC\")\n",
        "          d[lemma] = 1\n",
        "    else:\n",
        "          d[lemma] = 0\n",
        "\n",
        ""
      ],
      "metadata": {
        "id": "MWy2C1QZxmAM"
      },
      "execution_count": null,
      "outputs": []
    },
    {
      "cell_type": "code",
      "source": [
        "verbs=verbs.merge(pd.DataFrame(d.items(),columns=[\"Word\",\"Include\"]),left_on='Word',right_on='Word')"
      ],
      "metadata": {
        "id": "PZxCW3EdH2B4"
      },
      "execution_count": null,
      "outputs": []
    },
    {
      "cell_type": "code",
      "source": [
        "verbs.head(50)"
      ],
      "metadata": {
        "id": "fDJx5c8vDo02"
      },
      "execution_count": null,
      "outputs": []
    },
    {
      "cell_type": "code",
      "source": [
        "d= defaultdict(int)\n",
        "for i in range(10):\n",
        "    word=nouns.iloc[i,0]\n",
        "    print(word)\n",
        "    word=nlp_en(word)\n",
        "    lemma=word[0].lemma_\n",
        "    print(lemma)\n",
        "    syn =  en.synsets(lemma, pos='n')\n",
        "    if len(syn) > 0:\n",
        "      this_word = syn[0]\n",
        "      lem=[]\n",
        "      for path in wn.taxonomy.hypernym_paths(this_word):\n",
        "         for i, ss in enumerate(path):\n",
        "            lem.extend([l for l in ss.lemmas()])\n",
        "      print(lem)\n",
        "      if (\"physical entity\" in lem):\n",
        "          d[lemma] = 1\n",
        "      else:\n",
        "         d[lemma] = -\n",
        "      #nouns.iloc[i,7] = (\"physical entity\" in lem)\n",
        "\n",
        ""
      ],
      "metadata": {
        "id": "kAN2c4b0Mc8Q"
      },
      "execution_count": null,
      "outputs": []
    },
    {
      "cell_type": "code",
      "source": [
        "nouns=nouns.merge(pd.DataFrame(d.items(),columns=[\"Word\",\"Include\"]),left_on='Word',right_on='Word')"
      ],
      "metadata": {
        "id": "OVMJV5BJGewD"
      },
      "execution_count": null,
      "outputs": []
    },
    {
      "cell_type": "code",
      "source": [
        "nouns"
      ],
      "metadata": {
        "id": "EFJhaw5DYlWg"
      },
      "execution_count": null,
      "outputs": []
    },
    {
      "cell_type": "markdown",
      "source": [
        "French"
      ],
      "metadata": {
        "id": "XpohSBayGm8M"
      }
    },
    {
      "cell_type": "code",
      "source": [
        "ss=syns[8].translate(lexicon='omw-en:1.4')[0]"
      ],
      "metadata": {
        "id": "B76ZaPH5G2iv"
      },
      "execution_count": null,
      "outputs": []
    },
    {
      "cell_type": "code",
      "source": [
        "import nltk\n",
        "from nltk.corpus import wordnet"
      ],
      "metadata": {
        "id": "HlGb-nRrtcF8"
      },
      "execution_count": null,
      "outputs": []
    },
    {
      "cell_type": "code",
      "source": [
        "word=\"chat\"\n",
        "word=nlp_fr(word)\n",
        "lemma=word[0].lemma_\n",
        "print(word)\n",
        "syns=fr.synsets(lemma, pos='n')\n",
        "for this_word in syns:\n",
        "  print(this_word.lemmas())\n",
        "  for path in wn.taxonomy.hypernym_paths(this_word):\n",
        "    for i, ss in enumerate(path):\n",
        "\n",
        "            print(this_word.lemmas())\n",
        "            #lem.extend([l for l in ss.lemmas()])\n",
        "            #print(ss.lemmas())\n",
        "            lem.append([l for l in ss.lemmas()])\n",
        "\n",
        "\n",
        "#print(lem)\n",
        "#print(\"entité\" in lem)"
      ],
      "metadata": {
        "id": "bhPYqXAGbdrb"
      },
      "execution_count": null,
      "outputs": []
    },
    {
      "cell_type": "code",
      "source": [
        "word=\"chat\"\n",
        "word=nlp_fr(word)\n",
        "lemma=word[0].lemma_"
      ],
      "metadata": {
        "id": "EHd1DDYPpNjW"
      },
      "execution_count": null,
      "outputs": []
    },
    {
      "cell_type": "code",
      "source": [
        "lemma.count()"
      ],
      "metadata": {
        "id": "nLIB-51lpO7d"
      },
      "execution_count": null,
      "outputs": []
    },
    {
      "cell_type": "code",
      "source": [
        "fr.synsets(lemma, pos='n')"
      ],
      "metadata": {
        "id": "0eOihyn7lznr"
      },
      "execution_count": null,
      "outputs": []
    },
    {
      "cell_type": "code",
      "source": [
        "syns"
      ],
      "metadata": {
        "id": "0l-vHatrJZCx"
      },
      "execution_count": null,
      "outputs": []
    },
    {
      "cell_type": "code",
      "source": [
        "syns[i].translate(lexicon='omw-en:1.4')[0].lemmas()"
      ],
      "metadata": {
        "id": "B4YYQQ6OJWSq"
      },
      "execution_count": null,
      "outputs": []
    },
    {
      "cell_type": "code",
      "source": [
        "[nltk_wn.synsets(l,pos='v') for l in syn_en.lemmas()]"
      ],
      "metadata": {
        "id": "uUBQxyI3KCoY"
      },
      "execution_count": null,
      "outputs": []
    },
    {
      "cell_type": "code",
      "source": [
        "\n",
        "word=\"venir\"\n",
        "word=nlp_fr(word)\n",
        "lemma=word[0].lemma_\n",
        "syns = fr.synsets(lemma, pos='v')\n",
        "classes=[]\n",
        "if len(syns) > 0:\n",
        "      for i in range(len(syns)):\n",
        "          syn_en=syns[i].translate(lexicon='omw-en:1.4')[0]\n",
        "          syn_nltk=[nltk_wn.synsets(l,pos='v') for l in syn_en.lemmas]\n",
        "          #d[syn_nltk[i].lexname()].append(lemma)\n",
        "          classes.append(syn_nltk.lexname())\n",
        "      if len(set(classes).intersection([\"verb.motion\"])) > 0:\n",
        "          print(\"INC\")\n",
        "          #d[lemma] = 1\n",
        "      else:\n",
        "          print(\"EXCL\")\n",
        "          #d[lemma] = 0\n"
      ],
      "metadata": {
        "id": "G4AE64hJHcXa"
      },
      "execution_count": null,
      "outputs": []
    }
  ],
  "metadata": {
    "colab": {
      "provenance": []
    },
    "kernelspec": {
      "display_name": "Python 3 (ipykernel)",
      "language": "python",
      "name": "python3"
    },
    "language_info": {
      "codemirror_mode": {
        "name": "ipython",
        "version": 3
      },
      "file_extension": ".py",
      "mimetype": "text/x-python",
      "name": "python",
      "nbconvert_exporter": "python",
      "pygments_lexer": "ipython3",
      "version": "3.12.4"
    }
  },
  "nbformat": 4,
  "nbformat_minor": 0
}