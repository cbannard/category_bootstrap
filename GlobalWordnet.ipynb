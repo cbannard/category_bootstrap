{
  "cells": [
    {
      "cell_type": "code",
      "source": [
        "!python -m spacy download en_core_web_trf"
      ],
      "metadata": {
        "id": "M2cXj1sGBajv"
      },
      "execution_count": null,
      "outputs": []
    },
    {
      "cell_type": "code",
      "source": [
        "!python -m spacy download fr_dep_news_trf"
      ],
      "metadata": {
        "id": "p_Zk0mrkGBnV"
      },
      "execution_count": null,
      "outputs": []
    },
    {
      "cell_type": "code",
      "source": [
        "import en_core_web_trf\n",
        "nlp_en = en_core_web_trf.load()"
      ],
      "metadata": {
        "id": "9_HEnObFFnOA"
      },
      "execution_count": null,
      "outputs": []
    },
    {
      "cell_type": "code",
      "source": [
        "import fr_dep_news_trf\n",
        "nlp_fr = fr_dep_news_trf.load()"
      ],
      "metadata": {
        "id": "pmr7YzyUGfZ0"
      },
      "execution_count": null,
      "outputs": []
    },
    {
      "cell_type": "code",
      "execution_count": null,
      "metadata": {
        "id": "_eZ0lD3oa51w"
      },
      "outputs": [],
      "source": [
        "pip install wn"
      ]
    },
    {
      "cell_type": "code",
      "execution_count": null,
      "metadata": {
        "id": "-SCAa9eya51x"
      },
      "outputs": [],
      "source": [
        "import wn"
      ]
    },
    {
      "cell_type": "code",
      "execution_count": null,
      "metadata": {
        "id": "xrJObJiHa51x"
      },
      "outputs": [],
      "source": [
        "!python3 -m wn download omw:1.4"
      ]
    },
    {
      "cell_type": "code",
      "source": [
        "en=wn.Wordnet('omw-en:1.4')"
      ],
      "metadata": {
        "id": "T5ucMq94cFZ5"
      },
      "execution_count": null,
      "outputs": []
    },
    {
      "cell_type": "code",
      "source": [
        "fr=wn.Wordnet('omw-fr:1.4')"
      ],
      "metadata": {
        "id": "7jgWIizwbxUK"
      },
      "execution_count": null,
      "outputs": []
    },
    {
      "cell_type": "code",
      "source": [
        "ch=wn.Wordnet('omw-cmn:1.4')"
      ],
      "metadata": {
        "id": "T429LFZ4a_vD"
      },
      "execution_count": null,
      "outputs": []
    },
    {
      "cell_type": "code",
      "source": [
        "jp=wn.Wordnet('omw-ja:1.4')"
      ],
      "metadata": {
        "id": "GjlUlaNIbHX5"
      },
      "execution_count": null,
      "outputs": []
    },
    {
      "cell_type": "code",
      "source": [
        "import spacy"
      ],
      "metadata": {
        "id": "53RQPwABA3oN"
      },
      "execution_count": null,
      "outputs": []
    },
    {
      "cell_type": "code",
      "source": [
        "word=\"cats\"\n",
        "word=nlp_en(word)\n",
        "lemma=word[0].lemma_\n",
        "this_word = en.synsets(lemma, pos='n')[0]\n",
        "lem=[]\n",
        "for path in wn.taxonomy.hypernym_paths(this_word):\n",
        "    for i, ss in enumerate(path):\n",
        "            lem.extend([l for l in ss.lemmas()])\n",
        "lem"
      ],
      "metadata": {
        "id": "gBeAsJ5xARcT"
      },
      "execution_count": null,
      "outputs": []
    },
    {
      "cell_type": "code",
      "source": [
        "word=\"walked\"\n",
        "word=nlp_en(word)\n",
        "lemma=word[0].lemma_\n",
        "this_word = en.synsets(lemma, pos='v')[0]\n",
        "lem=[]\n",
        "for path in wn.taxonomy.hypernym_paths(this_word):\n",
        "    for i, ss in enumerate(path):\n",
        "            lem.extend([l for l in ss.lemmas()])\n",
        "lem"
      ],
      "metadata": {
        "id": "ERJGLkOwFbfw"
      },
      "execution_count": null,
      "outputs": []
    },
    {
      "cell_type": "code",
      "source": [
        "word=\"cat\"\n",
        "this_word = en.synsets(word, pos='n')[0]\n",
        "lem=[]\n",
        "for path in wn.taxonomy.hypernym_paths(this_word):\n",
        "    for i, ss in enumerate(path):\n",
        "            lem.extend([l for l in ss.lemmas()])\n",
        "print(\"entity\" in lem)"
      ],
      "metadata": {
        "id": "2LjEmu-Ab0jj"
      },
      "execution_count": null,
      "outputs": []
    },
    {
      "cell_type": "code",
      "source": [
        "word=\"chat\"\n",
        "word=nlp_fr(word)"
      ],
      "metadata": {
        "id": "8NA3kcuqG1r8"
      },
      "execution_count": null,
      "outputs": []
    },
    {
      "cell_type": "code",
      "source": [
        "word[0].lemma_"
      ],
      "metadata": {
        "id": "B76ZaPH5G2iv"
      },
      "execution_count": null,
      "outputs": []
    },
    {
      "cell_type": "code",
      "source": [
        "word=\"chats\"\n",
        "word=nlp_fr(word)\n",
        "lemma=word[0].lemma_\n",
        "this_word = fr.synsets(lemma, pos='n')[0]\n",
        "lem=[]\n",
        "for path in wn.taxonomy.hypernym_paths(this_word):\n",
        "    for i, ss in enumerate(path):\n",
        "            lem.extend([l for l in ss.lemmas()])\n",
        "print(\"entité\" in lem)"
      ],
      "metadata": {
        "id": "bhPYqXAGbdrb"
      },
      "execution_count": null,
      "outputs": []
    },
    {
      "cell_type": "code",
      "source": [
        "word=\"venir\"\n",
        "word=nlp_fr(word)\n",
        "lemma=word[0].lemma_\n",
        "this_word = fr.synsets(lemma, pos='v')[0]\n",
        "lem=[]\n",
        "for path in wn.taxonomy.hypernym_paths(this_word):\n",
        "    for i, ss in enumerate(path):\n",
        "            lem.extend([l for l in ss.lemmas()])\n",
        "lem"
      ],
      "metadata": {
        "id": "G4AE64hJHcXa"
      },
      "execution_count": null,
      "outputs": []
    },
    {
      "cell_type": "code",
      "source": [
        "word=\"put\"\n",
        "this_word = fr.synsets(word, pos='n')[0]\n",
        "lem=[]\n",
        "for path in fr.taxonomy.hypernym_paths(this_word):\n",
        "    for i, ss in enumerate(path):\n",
        "            lem.extend([l for l in ss.lemmas()])\n",
        "print(\"entity\" in lem)"
      ],
      "metadata": {
        "id": "PwjjKiy1bRvK"
      },
      "execution_count": null,
      "outputs": []
    },
    {
      "cell_type": "code",
      "source": [
        "lem"
      ],
      "metadata": {
        "id": "XWoesrfPdNSb"
      },
      "execution_count": null,
      "outputs": []
    },
    {
      "cell_type": "code",
      "execution_count": null,
      "metadata": {
        "id": "j__LbNJfa51y"
      },
      "outputs": [],
      "source": []
    }
  ],
  "metadata": {
    "colab": {
      "provenance": []
    },
    "kernelspec": {
      "display_name": "Python 3 (ipykernel)",
      "language": "python",
      "name": "python3"
    },
    "language_info": {
      "codemirror_mode": {
        "name": "ipython",
        "version": 3
      },
      "file_extension": ".py",
      "mimetype": "text/x-python",
      "name": "python",
      "nbconvert_exporter": "python",
      "pygments_lexer": "ipython3",
      "version": "3.12.4"
    }
  },
  "nbformat": 4,
  "nbformat_minor": 0
}