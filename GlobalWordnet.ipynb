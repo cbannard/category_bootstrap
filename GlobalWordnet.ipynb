{
 "cells": [
  {
   "cell_type": "code",
   "execution_count": 1,
   "metadata": {},
   "outputs": [
    {
     "name": "stdout",
     "output_type": "stream",
     "text": [
      "Collecting wn\n",
      "  Downloading wn-0.13.0-py3-none-any.whl.metadata (14 kB)\n",
      "Requirement already satisfied: httpx in /Library/Frameworks/Python.framework/Versions/3.12/lib/python3.12/site-packages (from wn) (0.27.0)\n",
      "Collecting tomli (from wn)\n",
      "  Downloading tomli-2.2.1-cp312-cp312-macosx_11_0_arm64.whl.metadata (11 kB)\n",
      "Requirement already satisfied: anyio in /Library/Frameworks/Python.framework/Versions/3.12/lib/python3.12/site-packages (from httpx->wn) (4.4.0)\n",
      "Requirement already satisfied: certifi in /Library/Frameworks/Python.framework/Versions/3.12/lib/python3.12/site-packages (from httpx->wn) (2024.8.30)\n",
      "Requirement already satisfied: httpcore==1.* in /Library/Frameworks/Python.framework/Versions/3.12/lib/python3.12/site-packages (from httpx->wn) (1.0.5)\n",
      "Requirement already satisfied: idna in /Library/Frameworks/Python.framework/Versions/3.12/lib/python3.12/site-packages (from httpx->wn) (3.7)\n",
      "Requirement already satisfied: sniffio in /Library/Frameworks/Python.framework/Versions/3.12/lib/python3.12/site-packages (from httpx->wn) (1.3.1)\n",
      "Requirement already satisfied: h11<0.15,>=0.13 in /Library/Frameworks/Python.framework/Versions/3.12/lib/python3.12/site-packages (from httpcore==1.*->httpx->wn) (0.14.0)\n",
      "Downloading wn-0.13.0-py3-none-any.whl (84 kB)\n",
      "Downloading tomli-2.2.1-cp312-cp312-macosx_11_0_arm64.whl (123 kB)\n",
      "Installing collected packages: tomli, wn\n",
      "\u001b[2K   \u001b[90m━━━━━━━━━━━━━━━━━━━━━━━━━━━━━━━━━━━━━━━━\u001b[0m \u001b[32m2/2\u001b[0m [wn] \u001b[32m1/2\u001b[0m [wn]\n",
      "\u001b[1A\u001b[2KSuccessfully installed tomli-2.2.1 wn-0.13.0\n",
      "Note: you may need to restart the kernel to use updated packages.\n"
     ]
    }
   ],
   "source": [
    "pip install wn"
   ]
  },
  {
   "cell_type": "code",
   "execution_count": 2,
   "metadata": {},
   "outputs": [],
   "source": [
    "import wn"
   ]
  },
  {
   "cell_type": "code",
   "execution_count": 4,
   "metadata": {},
   "outputs": [
    {
     "name": "stdout",
     "output_type": "stream",
     "text": [
      "Download [##############################] (49414200/49414200 bytes) Completeg\n",
      "Read [##############################] (25447/25447) 000gp/T/tmp_8mpdoq7/omw-1.4/omw-sv/omw-sv.xmll\n",
      "\u001b[KAdded omw-sv:1.4 (WordNet-SALDO)#####] (25444/25444) Examplesonsionssours\n",
      "Read [##############################] (35257/35257) 000gp/T/tmp_8mpdoq7/omw-1.4/omw-sq/omw-sq.xmll\n",
      "\u001b[KAdded omw-sq:1.4 (Albanet)###########] (35254/35254) Examplesonsionssours\n",
      "Read [##############################] (177117/177117) 0gp/T/tmp_8mpdoq7/omw-1.4/omw-pl/omw-pl.xmll\n",
      "\u001b[KAdded omw-pl:1.4 (plWordNet)#########] (177114/177114) Examplesonsionssours\n",
      "Read [##############################] (120995/120995) 0gp/T/tmp_8mpdoq7/omw-1.4/omw-sk/omw-sk.xmll\n",
      "\u001b[KAdded omw-sk:1.4 (Slovak WordNet)####] (120992/120992) Examplesonsionssours\n",
      "Read [##############################] (201542/201542) 0gp/T/tmp_8mpdoq7/omw-1.4/omw-sl/omw-sl.xmll\n",
      "\u001b[KAdded omw-sl:1.4 (sloWNet)###########] (201539/201539) Examplesonsionssours\n",
      "Read [##############################] (19380/19380) 000gp/T/tmp_8mpdoq7/omw-1.4/omw-da/omw-da.xmll\n",
      "\u001b[KAdded omw-da:1.4 (DanNet)############] (19377/19377) Examplesonsionssours\n",
      "Read [##############################] (15308/15308) 000gp/T/tmp_8mpdoq7/omw-1.4/omw-nn/omw-nn.xmll\n",
      "\u001b[KAdded omw-nn:1.4 (Norwegian Wordnet (Nynorsk))15305) Examplesonsionssours\n",
      "Read [##############################] (83267/83267) 000gp/T/tmp_8mpdoq7/omw-1.4/omw-arb/omw-arb.xmll\n",
      "\u001b[KAdded omw-arb:1.4 (Arabic WordNet (AWN v2))64/83264) Examplesonsionssours\n",
      "Read [##############################] (29690/29690) 000gp/T/tmp_8mpdoq7/omw-1.4/omw-he/omw-he.xmll\n",
      "\u001b[KAdded omw-he:1.4 (Hebrew Wordnet)####] (29687/29687) Examplesonsionssours\n",
      "Read [##############################] (211647/211647) 0gp/T/tmp_8mpdoq7/omw-1.4/omw-ca/omw-ca.xmll\n",
      "\u001b[KAdded omw-ca:1.4 (Multilingual Central Repository (Catalan))lesonsionssours\n",
      "Read [##############################] (44268/44268) 000gp/T/tmp_8mpdoq7/omw-1.4/omw-is/omw-is.xmll\n",
      "\u001b[KAdded omw-is:1.4 (IceWordNet)########] (44265/44265) Examplesonsionssours\n",
      "Read [##############################] (188283/188283) 0gp/T/tmp_8mpdoq7/omw-1.4/omw-it/omw-it.xmll\n",
      "\u001b[KAdded omw-it:1.4 (MultiWordNet (Italian))88280/188280) Examplesonsionssours\n",
      "Read [##############################] (96758/96758) 000gp/T/tmp_8mpdoq7/omw-1.4/omw-el/omw-el.xmll\n",
      "\u001b[KAdded omw-el:1.4 (Greek Wordnet)#####] (96755/96755) Examplesonsionssours\n",
      "Read [##############################] (499566/499566) 0gp/T/tmp_8mpdoq7/omw-1.4/omw-ja/omw-ja.xmll\n",
      "\u001b[KAdded omw-ja:1.4 (Japanese Wordnet)##] (499563/499563) Examplesonsionssours\n",
      "Read [##############################] (301893/301893) 0gp/T/tmp_8mpdoq7/omw-1.4/omw-ro/omw-ro.xmll\n",
      "\u001b[KAdded omw-ro:1.4 (Romanian Wordnet)##] (301890/301890) Examplesonsionssours\n",
      "Read [##############################] (248818/248818) 0gp/T/tmp_8mpdoq7/omw-1.4/omw-cmn/omw-cmn.xmll\n",
      "\u001b[KAdded omw-cmn:1.4 (Chinese Open Wordnet)248815/248815) Examplesonsionssours\n",
      "Read [##############################] (227774/227774) 0gp/T/tmp_8mpdoq7/omw-1.4/omw-pt/omw-pt.xmll\n",
      "\u001b[KAdded omw-pt:1.4 (OpenWN-PT)#########] (227771/227771) Examplesonsionssours\n",
      "Read [##############################] (92417/92417) 000gp/T/tmp_8mpdoq7/omw-1.4/omw-iwn/omw-iwn.xmll\n",
      "\u001b[KAdded omw-iwn:1.4 (ItalWordNet)######] (92414/92414) Examplesonsionssours\n",
      "Read [##############################] (18532/18532) 000gp/T/tmp_8mpdoq7/omw-1.4/omw-nb/omw-nb.xmll\n",
      "\u001b[KAdded omw-nb:1.4 (Norwegian Wordnet (Bokmål))/18529) Examplesonsionssours\n",
      "Read [##############################] (177773/177773) 0gp/T/tmp_8mpdoq7/omw-1.4/omw-nl/omw-nl.xmll\n",
      "\u001b[KAdded omw-nl:1.4 (Open Dutch WordNet)] (177770/177770) Examplesonsionssours\n",
      "Read [##############################] (46814/46814) 000gp/T/tmp_8mpdoq7/omw-1.4/omw-bg/omw-bg.xmll\n",
      "\u001b[KAdded omw-bg:1.4 (BulTreeBank Wordnet (BTB-WN))6811) Examplesonsionssours\n",
      "Read [##############################] (129201/129201) 0gp/T/tmp_8mpdoq7/omw-1.4/omw-hr/omw-hr.xmll\n",
      "\u001b[KAdded omw-hr:1.4 (Croatian Wordnet)##] (129198/129198) Examplesonsionssours\n",
      "Read [##############################] (93273/93273) 000gp/T/tmp_8mpdoq7/omw-1.4/omw-gl/omw-gl.xmll\n",
      "\u001b[KAdded omw-gl:1.4 (Multilingual Central Repository (Galician))onsionssours\n",
      "Read [##############################] (219452/219452) 0gp/T/tmp_8mpdoq7/omw-1.4/omw-zsm/omw-zsm.xmll\n",
      "\u001b[KAdded omw-zsm:1.4 (Wordnet Bahasa (Malaysian))/219449) Examplesonsionssours\n",
      "Read [##############################] (131130/131130) 0gp/T/tmp_8mpdoq7/omw-1.4/omw-eu/omw-eu.xmll\n",
      "\u001b[KAdded omw-eu:1.4 (Multilingual Central Repository (Basque))plesonsionssours\n",
      "Read [##############################] (48353/48353) 000gp/T/tmp_8mpdoq7/omw-1.4/omw-lt/omw-lt.xmll\n",
      "\u001b[KAdded omw-lt:1.4 (Lithuanian  WordNet) (48350/48350) Examplesonsionssours\n",
      "Read [##############################] (1221564/1221564) p/T/tmp_8mpdoq7/omw-1.4/omw-en/omw-en.xmll\n",
      "\u001b[KAdded omw-en:1.4 (OMW English Wordnet based on WordNet 3.0)amplesonsionsours\n",
      "Read [##############################] (170685/170685) 0gp/T/tmp_8mpdoq7/omw-1.4/omw-es/omw-es.xmll\n",
      "\u001b[KAdded omw-es:1.4 (Multilingual Central Repository (Spanish))lesonsionssours\n",
      "Read [##############################] (280977/280977) 0gp/T/tmp_8mpdoq7/omw-1.4/omw-fr/omw-fr.xmll\n",
      "\u001b[KAdded omw-fr:1.4 (WOLF (Wordnet Libre du Français))74) Examplesonsionssours\n",
      "Read [##############################] (231871/231871) 0gp/T/tmp_8mpdoq7/omw-1.4/omw-id/omw-id.xmll\n",
      "\u001b[KAdded omw-id:1.4 (Wordnet Bahasa (Indonesian))/231868) Examplesonsionssours\n",
      "Read [##############################] (567477/567477) 0gp/T/tmp_8mpdoq7/omw-1.4/omw-fi/omw-fi.xmll\n",
      "\u001b[KAdded omw-fi:1.4 (FinnWordNet)#######] (567474/567474) Examplesonsionssours\n",
      "Read [##############################] (335832/335832) 0gp/T/tmp_8mpdoq7/omw-1.4/omw-th/omw-th.xmll\n",
      "\u001b[KAdded omw-th:1.4 (Thai Wordnet)######] (335829/335829) Examplesonsionssours\n",
      "\n"
     ]
    }
   ],
   "source": [
    "!python3 -m wn download omw:1.4"
   ]
  },
  {
   "cell_type": "code",
   "execution_count": 5,
   "metadata": {},
   "outputs": [],
   "source": [
    "nl=wn.Wordnet('omw-nl:1.4')"
   ]
  },
  {
   "cell_type": "code",
   "execution_count": 17,
   "metadata": {},
   "outputs": [
    {
     "data": {
      "text/plain": [
       "['hebben', 'lijden']"
      ]
     },
     "execution_count": 17,
     "metadata": {},
     "output_type": "execute_result"
    }
   ],
   "source": [
    "nl.synsets('hebben', pos='v')[1].lemmas()"
   ]
  },
  {
   "cell_type": "code",
   "execution_count": null,
   "metadata": {},
   "outputs": [],
   "source": []
  }
 ],
 "metadata": {
  "colab": {
   "provenance": []
  },
  "kernelspec": {
   "display_name": "Python 3 (ipykernel)",
   "language": "python",
   "name": "python3"
  },
  "language_info": {
   "codemirror_mode": {
    "name": "ipython",
    "version": 3
   },
   "file_extension": ".py",
   "mimetype": "text/x-python",
   "name": "python",
   "nbconvert_exporter": "python",
   "pygments_lexer": "ipython3",
   "version": "3.12.4"
  }
 },
 "nbformat": 4,
 "nbformat_minor": 4
}
