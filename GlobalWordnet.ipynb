{
  "cells": [
    {
      "cell_type": "code",
      "execution_count": 1,
      "metadata": {
        "id": "_eZ0lD3oa51w",
        "outputId": "9ea514e3-ce79-4ba3-bb59-e88f8cebdd27",
        "colab": {
          "base_uri": "https://localhost:8080/"
        }
      },
      "outputs": [
        {
          "output_type": "stream",
          "name": "stdout",
          "text": [
            "Requirement already satisfied: wn in /usr/local/lib/python3.12/dist-packages (0.13.0)\n",
            "Requirement already satisfied: httpx in /usr/local/lib/python3.12/dist-packages (from wn) (0.28.1)\n",
            "Requirement already satisfied: tomli in /usr/local/lib/python3.12/dist-packages (from wn) (2.3.0)\n",
            "Requirement already satisfied: anyio in /usr/local/lib/python3.12/dist-packages (from httpx->wn) (4.11.0)\n",
            "Requirement already satisfied: certifi in /usr/local/lib/python3.12/dist-packages (from httpx->wn) (2025.10.5)\n",
            "Requirement already satisfied: httpcore==1.* in /usr/local/lib/python3.12/dist-packages (from httpx->wn) (1.0.9)\n",
            "Requirement already satisfied: idna in /usr/local/lib/python3.12/dist-packages (from httpx->wn) (3.11)\n",
            "Requirement already satisfied: h11>=0.16 in /usr/local/lib/python3.12/dist-packages (from httpcore==1.*->httpx->wn) (0.16.0)\n",
            "Requirement already satisfied: sniffio>=1.1 in /usr/local/lib/python3.12/dist-packages (from anyio->httpx->wn) (1.3.1)\n",
            "Requirement already satisfied: typing_extensions>=4.5 in /usr/local/lib/python3.12/dist-packages (from anyio->httpx->wn) (4.15.0)\n"
          ]
        }
      ],
      "source": [
        "pip install wn"
      ]
    },
    {
      "cell_type": "code",
      "execution_count": 2,
      "metadata": {
        "id": "-SCAa9eya51x"
      },
      "outputs": [],
      "source": [
        "import wn"
      ]
    },
    {
      "cell_type": "code",
      "execution_count": 3,
      "metadata": {
        "id": "xrJObJiHa51x",
        "outputId": "f0708dc5-2381-4aa6-8f56-93fc198af552",
        "colab": {
          "base_uri": "https://localhost:8080/"
        }
      },
      "outputs": [
        {
          "output_type": "stream",
          "name": "stdout",
          "text": [
            "\u001b[KCached file found: /root/.wn_data/downloads/16c278c2e49cbeed749469012a4c6cfa078b2db4\n",
            "\u001b[KSkipping omw-zsm:1.4 (Wordnet Bahasa (Malaysian)); already added\n",
            "\u001b[KSkipping omw-sl:1.4 (sloWNet); already added\n",
            "\u001b[KSkipping omw-it:1.4 (MultiWordNet (Italian)); already added\n",
            "\u001b[KSkipping omw-ca:1.4 (Multilingual Central Repository (Catalan)); already added\n",
            "\u001b[KSkipping omw-th:1.4 (Thai Wordnet); already added\n",
            "\u001b[KSkipping omw-en:1.4 (OMW English Wordnet based on WordNet 3.0); already added\n",
            "\u001b[KSkipping omw-nn:1.4 (Norwegian Wordnet (Nynorsk)); already added\n",
            "\u001b[KSkipping omw-fr:1.4 (WOLF (Wordnet Libre du Français)); already added\n",
            "\u001b[KSkipping omw-arb:1.4 (Arabic WordNet (AWN v2)); already added\n",
            "\u001b[KSkipping omw-ja:1.4 (Japanese Wordnet); already added\n",
            "\u001b[KSkipping omw-gl:1.4 (Multilingual Central Repository (Galician)); already added\n",
            "\u001b[KSkipping omw-bg:1.4 (BulTreeBank Wordnet (BTB-WN)); already added\n",
            "\u001b[KSkipping omw-da:1.4 (DanNet); already added\n",
            "\u001b[KSkipping omw-pl:1.4 (plWordNet); already added\n",
            "\u001b[KSkipping omw-sq:1.4 (Albanet); already added\n",
            "\u001b[KSkipping omw-he:1.4 (Hebrew Wordnet); already added\n",
            "\u001b[KSkipping omw-ro:1.4 (Romanian Wordnet); already added\n",
            "\u001b[KSkipping omw-nl:1.4 (Open Dutch WordNet); already added\n",
            "\u001b[KSkipping omw-nb:1.4 (Norwegian Wordnet (Bokmål)); already added\n",
            "\u001b[KSkipping omw-sk:1.4 (Slovak WordNet); already added\n",
            "\u001b[KSkipping omw-cmn:1.4 (Chinese Open Wordnet); already added\n",
            "\u001b[KSkipping omw-fi:1.4 (FinnWordNet); already added\n",
            "\u001b[KSkipping omw-el:1.4 (Greek Wordnet); already added\n",
            "\u001b[KSkipping omw-pt:1.4 (OpenWN-PT); already added\n",
            "\u001b[KSkipping omw-iwn:1.4 (ItalWordNet); already added\n",
            "\u001b[KSkipping omw-sv:1.4 (WordNet-SALDO); already added\n",
            "\u001b[KSkipping omw-lt:1.4 (Lithuanian  WordNet); already added\n",
            "\u001b[KSkipping omw-hr:1.4 (Croatian Wordnet); already added\n",
            "\u001b[KSkipping omw-id:1.4 (Wordnet Bahasa (Indonesian)); already added\n",
            "\u001b[KSkipping omw-es:1.4 (Multilingual Central Repository (Spanish)); already added\n",
            "\u001b[KSkipping omw-is:1.4 (IceWordNet); already added\n",
            "\u001b[KSkipping omw-eu:1.4 (Multilingual Central Repository (Basque)); already added\n",
            "\n"
          ]
        }
      ],
      "source": [
        "!python3 -m wn download omw:1.4"
      ]
    },
    {
      "cell_type": "code",
      "source": [],
      "metadata": {
        "id": "7jgWIizwbxUK"
      },
      "execution_count": 4,
      "outputs": []
    },
    {
      "cell_type": "code",
      "source": [
        "word=\"put\"\n",
        "this_word = wn.synsets(word, pos='n')[0]\n",
        "lem=[]\n",
        "for path in wn.taxonomy.hypernym_paths(this_word):\n",
        "    for i, ss in enumerate(path):\n",
        "            lem.extend([l for l in ss.lemmas()])\n",
        "print(\"entity\" in lem)"
      ],
      "metadata": {
        "id": "2LjEmu-Ab0jj",
        "outputId": "0b0fb47e-b21c-48ca-88eb-6a21ccd5841e",
        "colab": {
          "base_uri": "https://localhost:8080/"
        }
      },
      "execution_count": 23,
      "outputs": [
        {
          "output_type": "stream",
          "name": "stdout",
          "text": [
            "True\n"
          ]
        }
      ]
    },
    {
      "cell_type": "code",
      "source": [
        "lem"
      ],
      "metadata": {
        "id": "XWoesrfPdNSb",
        "outputId": "125753b8-3b55-4820-cc2b-7b1b7b622b14",
        "colab": {
          "base_uri": "https://localhost:8080/"
        }
      },
      "execution_count": 24,
      "outputs": [
        {
          "output_type": "execute_result",
          "data": {
            "text/plain": [
              "['option',\n",
              " 'derivative instrument',\n",
              " 'derivative',\n",
              " 'legal document',\n",
              " 'legal instrument',\n",
              " 'official document',\n",
              " 'instrument',\n",
              " 'document',\n",
              " 'written document',\n",
              " 'papers',\n",
              " 'writing',\n",
              " 'written material',\n",
              " 'piece of writing',\n",
              " 'written communication',\n",
              " 'written language',\n",
              " 'black and white',\n",
              " 'communication',\n",
              " 'abstraction',\n",
              " 'abstract entity',\n",
              " 'entity']"
            ]
          },
          "metadata": {},
          "execution_count": 24
        }
      ]
    },
    {
      "cell_type": "code",
      "execution_count": null,
      "metadata": {
        "id": "qpWHQL-Fa51x"
      },
      "outputs": [],
      "source": [
        "nl=wn.Wordnet('omw-nl:1.4')"
      ]
    },
    {
      "cell_type": "code",
      "execution_count": null,
      "metadata": {
        "id": "FZlvZPU1a51y",
        "outputId": "546a4382-25a5-41f4-847c-e40859f10423"
      },
      "outputs": [
        {
          "data": {
            "text/plain": [
              "['hebben', 'lijden']"
            ]
          },
          "execution_count": 17,
          "metadata": {},
          "output_type": "execute_result"
        }
      ],
      "source": [
        "nl.synsets('hebben', pos='v')[1].lemmas()"
      ]
    },
    {
      "cell_type": "code",
      "execution_count": null,
      "metadata": {
        "id": "j__LbNJfa51y"
      },
      "outputs": [],
      "source": []
    }
  ],
  "metadata": {
    "colab": {
      "provenance": []
    },
    "kernelspec": {
      "display_name": "Python 3 (ipykernel)",
      "language": "python",
      "name": "python3"
    },
    "language_info": {
      "codemirror_mode": {
        "name": "ipython",
        "version": 3
      },
      "file_extension": ".py",
      "mimetype": "text/x-python",
      "name": "python",
      "nbconvert_exporter": "python",
      "pygments_lexer": "ipython3",
      "version": "3.12.4"
    }
  },
  "nbformat": 4,
  "nbformat_minor": 0
}