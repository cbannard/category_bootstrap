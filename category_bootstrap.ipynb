{
  "cells": [
    {
      "cell_type": "code",
      "execution_count": null,
      "id": "b939aded",
      "metadata": {
        "id": "b939aded"
      },
      "outputs": [],
      "source": [
        "import re\n",
        "# download data from from my Google Drive\n",
        "!gdown 1ixIXQ9qceDAa4P5ENqb0ydnMXaF5lRGj"
      ]
    },
    {
      "cell_type": "code",
      "source": [
        "# read the file in to a list of tokens\n",
        "f = open('text-lines-all-new-input-modified.txt')\n",
        "allutts = f.read()\n",
        "allutts=re.sub('\\n',' } {', allutts)\n",
        "allutts=re.sub('\\*[a-z]+\\:','', allutts)\n",
        "tokens = allutts.split()\n",
        "tokens=tokens[1:100000]"
      ],
      "metadata": {
        "id": "RpQrzHTRg3-9"
      },
      "id": "RpQrzHTRg3-9",
      "execution_count": null,
      "outputs": []
    },
    {
      "cell_type": "code",
      "source": [
        "# Select context tokens based on frequency\n",
        "from collections import Counter\n",
        "counts=Counter(tokens)\n",
        "# Sort the tuples. The reverse argument instructs to put most frequent first rather than last (which is the default)\n",
        "so=sorted(counts.items(), key=lambda item: item[1], reverse=True)\n",
        "# Extract the list of tokens, by transposing the list of lists so that there is a list of tokens a list of counts and then just selecting the former\n",
        "so=list(zip(*so))[0]\n",
        "# Select the firs 2500 words in the list\n",
        "context_vocab_size = 2500\n",
        "type_list=so[0:context_vocab_size]\n",
        "token_count = len(tokens)"
      ],
      "metadata": {
        "id": "WhnJGJPLifUL"
      },
      "id": "WhnJGJPLifUL",
      "execution_count": null,
      "outputs": []
    },
    {
      "cell_type": "code",
      "execution_count": null,
      "id": "33bfcf79",
      "metadata": {
        "id": "33bfcf79"
      },
      "outputs": [],
      "source": [
        "from collections import defaultdict\n",
        "type_count = len(type_list)\n",
        "targets = []\n",
        "positions = []\n",
        "contextwordcounts = []\n",
        "d = defaultdict(lambda: [0] * context_vocab_size)\n",
        "window_size = 2\n",
        "\n",
        "for i, word in enumerate(tokens):\n",
        "            # Find the index in the tokenized sentence vector for the beginning of the window (the current token minus window size or zero whichever is the lower)\n",
        "            begin = max(i - window_size, 0)\n",
        "            # Find the index in the tokenized sentence vector for the end of the window (the current token plus window size or the length of the sentence whichever is the lower)\n",
        "            end  = min(i + window_size, token_count)\n",
        "            # Extract the text from beginning of window to the end\n",
        "            context = tokens[begin: end + 1]\n",
        "            # Remove the target word from its own window\n",
        "            context.remove(tokens[i])\n",
        "            # Iterate over the window for this target word\n",
        "            position = 0\n",
        "            for token in context:\n",
        "                position += 1\n",
        "                if type_list.count(token) > 0:\n",
        "                  # Find the ID and hence the list index for the current token\n",
        "                  token_id = type_list.index(token)\n",
        "                  # Add 1 to the current context word dimension for the current target word\n",
        "                  d[(word,position)][token_id] += 1\n"
      ]
    },
    {
      "cell_type": "code",
      "source": [
        "# Convert to a hierachical data frame\n",
        "import pandas as pd\n",
        "df=pd.DataFrame(d)\n",
        "df.index = type_list"
      ],
      "metadata": {
        "id": "aXy2ATpqbik6"
      },
      "id": "aXy2ATpqbik6",
      "execution_count": null,
      "outputs": []
    },
    {
      "cell_type": "code",
      "source": [
        "df"
      ],
      "metadata": {
        "id": "vizu46vQdW0n"
      },
      "id": "vizu46vQdW0n",
      "execution_count": null,
      "outputs": []
    }
  ],
  "metadata": {
    "colab": {
      "provenance": [],
      "machine_shape": "hm"
    },
    "kernelspec": {
      "display_name": "Python 3",
      "name": "python3"
    },
    "language_info": {
      "codemirror_mode": {
        "name": "ipython",
        "version": 3
      },
      "file_extension": ".py",
      "mimetype": "text/x-python",
      "name": "python",
      "nbconvert_exporter": "python",
      "pygments_lexer": "ipython3",
      "version": "3.9.12"
    }
  },
  "nbformat": 4,
  "nbformat_minor": 5
}